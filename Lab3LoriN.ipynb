{
 "cells": [
  {
   "cell_type": "markdown",
   "id": "7d920a9f",
   "metadata": {},
   "source": [
    "### Lab 3, problem 1\n",
    "### In this game, if rock goes against bakugo or scissors, rock wins. If scissors goes against paper, scissors    ### wins. If paper goes against rock or bakugo, paper wins. If midoriya goes against bakugo or rock, midoriya    ### wins. If bakugo goes against paper or scissors, bakugo wins. "
   ]
  },
  {
   "cell_type": "code",
   "execution_count": 5,
   "id": "ab2514e6",
   "metadata": {},
   "outputs": [
    {
     "name": "stdout",
     "output_type": "stream",
     "text": [
      "Welcome to my game. Enjoy !\n",
      "Do you want to be 'rock', 'paper', 'scissors', 'bakugo', 'midoriya'? midoriya\n",
      "You are midoriya\n",
      "The computer has bakugo\n",
      "You win:)\n"
     ]
    }
   ],
   "source": [
    "# Lori-Ann Nembhard\n",
    "# The purpose of this code is to play a game of rock, paper, scissors, bakugo, midoriya.\n",
    "\n",
    "import random\n",
    "\n",
    "print(\"Welcome to my game. Enjoy !\")\n",
    "\n",
    "player = input(\"Do you want to be 'rock', 'paper', 'scissors', 'bakugo', 'midoriya'? \")\n",
    "print(\"You are\", player)\n",
    "\n",
    "computer =  random.choice(['rock', 'paper', 'scissors', 'bakugo', 'midoriya'])\n",
    "print(\"The computer has\", computer)\n",
    "\n",
    "if computer == player:\n",
    "    print(\"It's a tie!\")\n",
    "elif player == 'rock':\n",
    "    if computer == 'bakugo'or computer == 'scissors':\n",
    "        print(\"You win:)\")\n",
    "    else:\n",
    "        print(\"You lose:(\")\n",
    "elif player == 'scissors':\n",
    "    if computer == 'paper':\n",
    "        print(\"You win:)\")\n",
    "    else:\n",
    "        print(\"You lose:(\")\n",
    "elif player == 'paper':\n",
    "    if computer == 'rock' or computer == 'bakugo':\n",
    "        print(\"You win:)\")\n",
    "    else:\n",
    "        print(\"You lose\")\n",
    "elif player == 'midoriya':\n",
    "    if computer == 'bakugo'or computer == 'rock':\n",
    "        print(\"You win:)\")\n",
    "    else:\n",
    "        print(\"You lose\")\n",
    "elif player == 'bakugo':\n",
    "    if computer == 'paper'or computer == 'scissors':\n",
    "        print(\"You win:)\")\n",
    "    else:\n",
    "        print(\"You lose:(\")\n"
   ]
  },
  {
   "cell_type": "markdown",
   "id": "5691d6ca",
   "metadata": {},
   "source": [
    "### Lab 3, problem 2\n",
    "### In this game of rock, paper, scissors, if rock goes against scissors, rock wins but loses if it goes against paper. If paper goes against scissors, scissors win."
   ]
  },
  {
   "cell_type": "code",
   "execution_count": 7,
   "id": "f197299f",
   "metadata": {},
   "outputs": [
    {
     "name": "stdout",
     "output_type": "stream",
     "text": [
      "Welcome to my game. Enjoy !\n",
      "Do you want to be 'rock', 'paper', 'scissors'? paper\n",
      "You are paper\n",
      "The computer has rock\n",
      "You win!!!\n"
     ]
    }
   ],
   "source": [
    "# Lori-Ann\n",
    "# This is a game of rock paper scissors where depending on which variant the player choses, the program will determine\n",
    "# who's the winner or the loser\n",
    "\n",
    "import random\n",
    "\n",
    "print(\"Welcome to my game. Enjoy !\")\n",
    "\n",
    "player = input(\"Do you want to be 'rock', 'paper', 'scissors'? \")\n",
    "print(\"You are\", player)\n",
    "\n",
    "computer =  random.choice(['rock', 'paper', 'scissors'])\n",
    "print(\"The computer has\", computer)\n",
    "\n",
    "\n",
    "if computer == player:\n",
    "    print(\"It's a tie\")\n",
    "elif player == 'rock':\n",
    "    if computer == 'scissors':\n",
    "        print(\"You lose!\")\n",
    "    else:\n",
    "        print(\"You WIN!!!\")\n",
    "elif player == 'paper':\n",
    "    if computer == 'scissors':\n",
    "        print(\"You lose!\")\n",
    "    else:\n",
    "        print(\"You WIN!!!\")\n",
    "elif player == 'scissors':\n",
    "    if computer == 'paper':\n",
    "        print(\"You WIN\")\n",
    "    else:\n",
    "        print(\"You lose!\")\n",
    "elif player == 'scissors':\n",
    "    if computer == 'rock':\n",
    "        print(\"You WIN!!!\")\n",
    "    else:\n",
    "        print(\"You lose!\")\n"
   ]
  },
  {
   "cell_type": "markdown",
   "id": "eb37db52",
   "metadata": {},
   "source": [
    "### This is an adventure game. Depending on the choice you choose, it will either take the user on an adventure or end the game becuase the user did not want to continue."
   ]
  },
  {
   "cell_type": "code",
   "execution_count": 6,
   "id": "a2eaed50",
   "metadata": {},
   "outputs": [
    {
     "name": "stdout",
     "output_type": "stream",
     "text": [
      "Welcome to Jamaica! Where would you like to visit first? \n",
      "Type 'a' for Oracabessa or 'b' for Dolphin Cove: b\n",
      "You travel to Dolphin Cove in Ocho Rios, and dolphins smack you with their tail until your skin becomes red.\n",
      "This is relatively common at Dolphin Cove.\n",
      "Where do you want to go next?\n",
      "Type 'a' to give up and go home or 'b' for more adventures:b\n",
      "You travel to Dunn's River Falls to climb the falls and drive jet ski around the beach\n"
     ]
    }
   ],
   "source": [
    "# Lori-Ann Nembhard\n",
    "# This is an adventure game. Typing in different letters such as a or b may or may not take the user on an adventure\n",
    "\n",
    "print(\"Welcome to Jamaica! Where would you like to visit first? \")\n",
    "\n",
    "choice1 = input(\"Type 'a' for Oracabessa or 'b' for Dolphin Cove: \")\n",
    "\n",
    "if choice1 == 'a':\n",
    "    print(\"Great, you're on your way to Kingston!\")\n",
    "    print(\"But once you arrive, you realized you forgot your bus ticket for the Ian Fleming's house tour\")\n",
    "    print(\"What are you going to do? \")\n",
    "    choice2 = input(\"Type 'a' to give up and go home or 'b' to stay and ask strangers for help: \")\n",
    "\n",
    "    if choice2 == 'a':\n",
    "        print(\"Guess you won't get to where he wrote his James Bond Novels . So long, farewell.\")\n",
    "    elif choice2 == 'b':\n",
    "        print(\"Great decision.  The first person you ask is the manager of the villa and lets you get in free of cost!\")\n",
    "        print(\"Life is sweet  :-)\")\n",
    "\n",
    "elif choice1 == 'b':\n",
    "    print(\"You travel to Dolphin Cove in Ocho Rios, and dolphins smack you with their tail until your skin becomes red.\")\n",
    "    print(\"This is relatively common at Dolphin Cove.\")\n",
    "    print(\"Where do you want to go next?\")\n",
    "    choice3 = input(\"Type 'a' to give up and go home or 'b' for more adventures:\")\n",
    "    \n",
    "    if choice3 == 'a':\n",
    "        print(\"awww... next time\")\n",
    "    elif choice3 =='b':\n",
    "        print(\"You travel to Dunn's River Falls to climb the falls and drive jet ski around the beach\")\n",
    "    "
   ]
  },
  {
   "cell_type": "code",
   "execution_count": null,
   "id": "68b8ff9c",
   "metadata": {},
   "outputs": [],
   "source": []
  }
 ],
 "metadata": {
  "kernelspec": {
   "display_name": "Python 3 (ipykernel)",
   "language": "python",
   "name": "python3"
  },
  "language_info": {
   "codemirror_mode": {
    "name": "ipython",
    "version": 3
   },
   "file_extension": ".py",
   "mimetype": "text/x-python",
   "name": "python",
   "nbconvert_exporter": "python",
   "pygments_lexer": "ipython3",
   "version": "3.9.13"
  }
 },
 "nbformat": 4,
 "nbformat_minor": 5
}

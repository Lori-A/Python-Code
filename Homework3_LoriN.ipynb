{
 "cells": [
  {
   "cell_type": "markdown",
   "id": "f6b48645",
   "metadata": {},
   "source": [
    "### Square"
   ]
  },
  {
   "cell_type": "code",
   "execution_count": 1,
   "id": "d6f53c15",
   "metadata": {},
   "outputs": [],
   "source": [
    "# Lori-Ann Nembhard\n",
    "#This code utilizes the turtle library by drawing a square\n",
    "\n",
    "import turtle\n",
    "turtle.showturtle()\n",
    "turtle.dot()\n",
    "turtle.forward(100)\n",
    "turtle.left(90)\n",
    "turtle.forward(100)\n",
    "turtle.left(90)\n",
    "turtle.forward(100)\n",
    "turtle.left(90)\n",
    "turtle.forward(100)"
   ]
  },
  {
   "cell_type": "markdown",
   "id": "1d9c5d1d",
   "metadata": {},
   "source": [
    "### Triangle"
   ]
  },
  {
   "cell_type": "code",
   "execution_count": 1,
   "id": "1434930d",
   "metadata": {},
   "outputs": [],
   "source": [
    "# Lori-Ann Nembhard\n",
    "#This code utilizes the turtle library by drawing a triangle\n",
    "\n",
    "import turtle\n",
    "turtle.showturtle()\n",
    "turtle.forward(100) \n",
    "turtle.left(120)\n",
    "turtle.forward(100)\n",
    "turtle.left(120)\n",
    "turtle.forward(100)"
   ]
  },
  {
   "cell_type": "markdown",
   "id": "1d5f94e9",
   "metadata": {},
   "source": [
    "### Venn Diagram"
   ]
  },
  {
   "cell_type": "code",
   "execution_count": 1,
   "id": "384a37a3",
   "metadata": {},
   "outputs": [],
   "source": [
    "# Lori-Ann Nembhard\n",
    "#This code utilizes the turtle library by drawing a venn diagram\n",
    "import turtle\n",
    "turtle.showturtle()\n",
    "turtle.pencolor(\"pink\")\n",
    "turtle.circle(100)\n",
    "turtle.forward(5)\n",
    "turtle.pencolor(\"violet\")\n",
    "turtle.circle(100)\n",
    "turtle.penup()\n",
    "turtle.goto(120,0)\n",
    "turtle.pendown()\n",
    "turtle.pencolor(\"turquoise\")\n",
    "turtle.circle(100)\n",
    "turtle.forward(5)\n",
    "turtle.circle(100)\n",
    "turtle.pencolor(\"black\")\n",
    "turtle.penup()\n",
    "turtle.goto(70,-110)\n",
    "turtle.pendown()\n",
    "turtle.pencolor(\"blue\")\n",
    "turtle.circle(100)\n",
    "turtle.forward(5)\n",
    "turtle.pencolor(\"purple\")\n",
    "turtle.circle(100)\n"
   ]
  },
  {
   "cell_type": "markdown",
   "id": "7a972e65",
   "metadata": {},
   "source": [
    "### If your love's age is less than your age(after the algorithm is completed) then that person is good to go. In addition to that statement being true, it will go into the nested if statement  and ask if the user likes movies. If his or response is yes or no then it will print messages in accordance to their response. However, if your love's age is too old for you, it will go into the else block in line 16 and execute based on the responses the user provides."
   ]
  },
  {
   "cell_type": "code",
   "execution_count": 14,
   "id": "96f5f0ff",
   "metadata": {},
   "outputs": [
    {
     "name": "stdout",
     "output_type": "stream",
     "text": [
      "Enter your age: 25\n",
      "Enter the age of the person you want to date: 35\n",
      "Do you like movies? Yes or No yes\n",
      "You are good to go!\n",
      "We both love movies!\n"
     ]
    }
   ],
   "source": [
    "#Lori-Ann Nembhard\n",
    "#This is a dating algorithm and it will calculate if your love's age is less than your age and determine \n",
    "#if you're too old\n",
    "\n",
    "your_age = int(input(\"Enter your age: \"))\n",
    "love_age = int(input(\"Enter the age of the person you want to date: \"))\n",
    "movie = input(\"Do you like movies? Yes or No: \")\n",
    "\n",
    "    \n",
    "if love_age < (your_age - 7) * 2:\n",
    "    print(\"You are good to go!\")\n",
    "    if movie == \"yes\":\n",
    "        print(\"We both love movies!\")\n",
    "    else:\n",
    "        print(\"I'm sorry. Not intersted. You dont like movies\")\n",
    "else:\n",
    "    print(\"You are a creeper!\")\n",
    "    if movie == \"no\":\n",
    "        print(\"Uh oh! Get away from me!\")\n",
    "    else:\n",
    "        print(\"You love movies but you're still a creeper!\")\n",
    "    "
   ]
  },
  {
   "cell_type": "code",
   "execution_count": 15,
   "id": "258c1ddd",
   "metadata": {},
   "outputs": [
    {
     "name": "stdout",
     "output_type": "stream",
     "text": [
      "Enter your age: 100\n",
      "You are a mature wise person\n"
     ]
    }
   ],
   "source": [
    "#Lori-Ann Nembhard\n",
    "#This algorithm will determine which phase in the development life cycle an individual is in\n",
    "userAge = int(input(\"Enter your age: \"))\n",
    "\n",
    "if userAge <= 1:\n",
    "    print(\"You are an infant\")\n",
    "elif userAge > 1 and userAge < 3:\n",
    "    print(\"You are a toddler\")\n",
    "elif userAge >= 3 and userAge < 13:\n",
    "    print(\"You are a child\")\n",
    "elif userAge >= 13 and userAge < 20:\n",
    "    print(\"You are a teenager\")\n",
    "elif userAge >= 20 and userAge < 70:\n",
    "    print(\"You are an adult\")\n",
    "elif userAge >= 70:\n",
    "    print(\"You are a mature wise person\")"
   ]
  },
  {
   "cell_type": "code",
   "execution_count": null,
   "id": "9030a104",
   "metadata": {},
   "outputs": [],
   "source": []
  }
 ],
 "metadata": {
  "kernelspec": {
   "display_name": "Python 3 (ipykernel)",
   "language": "python",
   "name": "python3"
  },
  "language_info": {
   "codemirror_mode": {
    "name": "ipython",
    "version": 3
   },
   "file_extension": ".py",
   "mimetype": "text/x-python",
   "name": "python",
   "nbconvert_exporter": "python",
   "pygments_lexer": "ipython3",
   "version": "3.9.13"
  }
 },
 "nbformat": 4,
 "nbformat_minor": 5
}

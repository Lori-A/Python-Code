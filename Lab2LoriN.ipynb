{
 "cells": [
  {
   "cell_type": "code",
   "execution_count": null,
   "id": "fa628041",
   "metadata": {},
   "outputs": [],
   "source": [
    "#Lori-Ann Nembhard\n",
    "#This code provides a brief explanation of bitcoin and how it works. \n",
    "#It follows with a bitcoin converte as well as information\n",
    "#on madlibs."
   ]
  },
  {
   "cell_type": "markdown",
   "id": "6ff22b6f",
   "metadata": {},
   "source": [
    "### Lab 2, problem 1"
   ]
  },
  {
   "cell_type": "markdown",
   "id": "fa9c37eb",
   "metadata": {},
   "source": [
    "### Bitcoin is a popular cryptocurrency designed to act as a form of legal tender in financial transactions, eliminating the need for third party individuals. To purchase bitcoins, most people do not purchase it in its entirety but rather small portions since there is a risk to buying them. After purchasing bitcoins, you will need to obtain a cryptocurrency wallet. The wallet will contain private keys to the bitcoins that you own and each time you conduct a transaction they will ask the user to enter the keys. "
   ]
  },
  {
   "cell_type": "markdown",
   "id": "f540b1f4",
   "metadata": {},
   "source": [
    "### Lab 2, problem 2"
   ]
  },
  {
   "cell_type": "code",
   "execution_count": 39,
   "id": "3a3e2a09",
   "metadata": {},
   "outputs": [
    {
     "name": "stdout",
     "output_type": "stream",
     "text": [
      "How many bitcoins do you have? 41.5\n",
      "You have $ 949238.21\n"
     ]
    }
   ],
   "source": [
    "bitcoinInput= float(input(\"How many bitcoins do you have? \"))\n",
    "bitcoinValue= 22873.21\n",
    "bitcoinDollars = (bitcoinInput * bitcoinValue)\n",
    "bitcoinDollars= round(bitcoinDollars, 2)\n",
    "print(\"You have $\",bitcoinDollars)"
   ]
  },
  {
   "cell_type": "markdown",
   "id": "604123a4",
   "metadata": {},
   "source": [
    "### Lab 2, problem 3"
   ]
  },
  {
   "cell_type": "code",
   "execution_count": 5,
   "id": "bbe9c257",
   "metadata": {},
   "outputs": [
    {
     "name": "stdout",
     "output_type": "stream",
     "text": [
      "Enter a noun:dog\n",
      "Enter another noun: cat\n",
      "Enter a verb: ran\n",
      "Enter an adjective: sunny\n",
      "Enter another adjective: hot\n",
      "What is your profession: teacher\n",
      "Enter a verb: walked\n",
      "Enter a noun: samirah\n",
      "Enter another noun: dogs\n",
      "Enter nouns : ariel\n",
      "Enter dessert: ice cream\n",
      "Enter Description of bus: tiny\n",
      "The dog and the cat ran from sunny and hot Kingston. The  teacher walked  with  because she was afraid of dogs.On her way home,  ariel bought ice cream and got into a tiny  bus and went home.\n"
     ]
    }
   ],
   "source": [
    "nounEntered = input(\"Enter a noun:\")\n",
    "anotherNounEntered= input(\"Enter another noun: \")\n",
    "verbEntered= input(\"Enter a verb: \")\n",
    "adjectiveEntered= input(\"Enter an adjective: \")\n",
    "anotherAdjective= input(\"Enter another adjective: \")\n",
    "\n",
    "professionEntered = input(\"What is your profession: \")\n",
    "verbInput = input(\"Enter a verb: \")\n",
    "nounInput = input(\"Enter a noun: \")\n",
    "anotherNoun = input(\"Enter another noun: \")\n",
    "\n",
    "studentName = input(\"Enter nouns : \")\n",
    "dessertBought = input(\"Enter dessert: \")\n",
    "busDescription = input(\"Enter Description of bus: \")\n",
    "\n",
    "print(\"The \" + nounEntered + \" and the \" + anotherNounEntered +\" \" + verbEntered + \" from \" + adjectiveEntered \n",
    "      + \" and \" + anotherAdjective + \" Kingston. The \" + \" \"+ professionEntered + \" \" + verbInput + \" \" + \" with \" + \" because she was\" \n",
    "      + \" afraid of \" + anotherNoun + \".\" + \"On her way home, \" + \" \" + studentName + \" bought \" + dessertBought +\n",
    "     \" and got into a \" + busDescription + \"  bus and went home.\")"
   ]
  },
  {
   "cell_type": "code",
   "execution_count": null,
   "id": "6bcf7293",
   "metadata": {},
   "outputs": [],
   "source": []
  },
  {
   "cell_type": "code",
   "execution_count": null,
   "id": "31f7f716",
   "metadata": {},
   "outputs": [],
   "source": []
  }
 ],
 "metadata": {
  "kernelspec": {
   "display_name": "Python 3 (ipykernel)",
   "language": "python",
   "name": "python3"
  },
  "language_info": {
   "codemirror_mode": {
    "name": "ipython",
    "version": 3
   },
   "file_extension": ".py",
   "mimetype": "text/x-python",
   "name": "python",
   "nbconvert_exporter": "python",
   "pygments_lexer": "ipython3",
   "version": "3.9.13"
  }
 },
 "nbformat": 4,
 "nbformat_minor": 5
}

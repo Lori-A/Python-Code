{
 "cells": [
  {
   "cell_type": "markdown",
   "id": "696e35d1",
   "metadata": {},
   "source": [
    "### Homework 4, problem 1\n",
    "### If your love's age is less than your age(after the algorithm is completed) then that person is good to go. In addition to that statement being true, it will go into the nested if statement and ask if the user likes movies. If his or response is yes or no then it will print messages in accordance to their response. If your love's age is not too old for you, it will go into the else block in line 12 and execute based on the responses the user provides."
   ]
  },
  {
   "cell_type": "code",
   "execution_count": 1,
   "id": "92431512",
   "metadata": {},
   "outputs": [
    {
     "name": "stdout",
     "output_type": "stream",
     "text": [
      "Enter your age: 5\n",
      "Enter the age of the person you want to date: 25\n",
      "Do you like movies? Yes or No: NO\n",
      "You are good to go!\n",
      "I'm sorry. Not intersted. You dont like movies\n"
     ]
    }
   ],
   "source": [
    "#Lori-Ann Nembhard\n",
    "#This is a dating algorithm and it will calculate if your love's age is less than your age and determine \n",
    "#if you're not too old\n",
    "\n",
    "your_age = int(input(\"Enter your age: \"))\n",
    "love_age = int(input(\"Enter the age of the person you want to date: \"))\n",
    "movie = input(\"Do you like movies? Yes or No: \")\n",
    "\n",
    "if love_age < your_age / 2 + 7:\n",
    "    print(\"You are a creeper!\")\n",
    "    if movie == \"no\":\n",
    "        print(\"Uh oh! Get away from me!\")\n",
    "    else:\n",
    "        print(\"You love movies but you're still a creeper!\")\n",
    "        \n",
    "elif love_age > (your_age - 7) * 2:\n",
    "    print(\"You are good to go!\")\n",
    "    if movie == \"yes\":\n",
    "        print(\"We both love movies!\")\n",
    "    else:\n",
    "        print(\"I'm sorry. Not intersted. You dont like movies\")"
   ]
  },
  {
   "cell_type": "markdown",
   "id": "ef1975c9",
   "metadata": {},
   "source": [
    "### Homework 4, problem 2"
   ]
  },
  {
   "cell_type": "code",
   "execution_count": 66,
   "id": "c2de133b",
   "metadata": {},
   "outputs": [
    {
     "name": "stdout",
     "output_type": "stream",
     "text": [
      "Enter the number of calories burned per minute:4.3\n",
      " \n",
      "The calories burned after  10 minutes is:  43.0\n",
      "The calories burned after  15 minutes is:  64.5\n",
      "The calories burned after  20 minutes is:  86.0\n",
      "The calories burned after  25 minutes is:  107.5\n"
     ]
    }
   ],
   "source": [
    "# This program calculates the amount of calories burned after 10 -25 minutes\n",
    "\n",
    "userInput = float(input(\"Enter the number of calories burned per minute:\"))\n",
    "print(\" \")\n",
    "\n",
    "\n",
    "\n",
    "\n",
    "while userInput <= 0:\n",
    "    print(\"You must enter a number greater than 0\")\n",
    "    userInput = float(input(\"Enter the number of calories burned per minute: \"))\n",
    "    \n",
    "for num in range(10,30,5):\n",
    "    caloriesBurned = userInput * num\n",
    "    print(\"The calories burned after \", num, \"minutes is: \", caloriesBurned)\n",
    "        \n",
    "\n",
    "\n",
    "    "
   ]
  },
  {
   "cell_type": "markdown",
   "id": "c71f646d",
   "metadata": {},
   "source": [
    "### Homework 4, problem 3"
   ]
  },
  {
   "cell_type": "code",
   "execution_count": 40,
   "id": "6c031d8f",
   "metadata": {},
   "outputs": [
    {
     "name": "stdout",
     "output_type": "stream",
     "text": [
      "Enter a non negative number: -8\n",
      "Number cannot be negative. Enter non negative number again: 8\n",
      "8! is equal to: 40320\n"
     ]
    }
   ],
   "source": [
    "#Lori-Ann Nembhard\n",
    "#This program calculates the factorial of an integer\n",
    "\n",
    "userInput = int(input(\"Enter a non negative number: \"))\n",
    "\n",
    "\n",
    "while userInput < 0:\n",
    "    userInput = int(input(\"Number cannot be negative. Enter non negative number again: \"))\n",
    "\n",
    "if userInput == 0 or userInput == 1:\n",
    "    print(userInput, \"! is equal to 1\")\n",
    "else:\n",
    "    factorial = 1\n",
    "    for i in range(1,userInput+1):\n",
    "        factorial = factorial* i\n",
    "    print(str (userInput) +\"! is equal to: \"+ str(factorial))"
   ]
  },
  {
   "cell_type": "code",
   "execution_count": 56,
   "id": "13930530",
   "metadata": {},
   "outputs": [
    {
     "name": "stdout",
     "output_type": "stream",
     "text": [
      "Enter your age: 40\n",
      "Enter the age of the person you want to date: 43\n"
     ]
    }
   ],
   "source": [
    "#Lori-Ann Nembhard\n",
    "#This is a dating algorithm and it will calculate if your love's age is less than your age and determine \n",
    "#if you're not too old\n",
    "\n",
    "your_age = int(input(\"Enter your age: \"))\n",
    "love_age = int(input(\"Enter the age of the person you want to date: \"))\n",
    "#movie = input(\"Do you like movies? Yes or No: \")\n",
    "\n",
    "if love_age < your_age / 2 + 7:\n",
    "    print(\"You are a creeper!\")\n",
    "else:\n",
    "    if love_age > (your_age - 7) * 2:\n",
    "        print(\"You're good to go\")\n",
    "    #if movie == \"no\":\n",
    "       # print(\"Uh oh! Get away from me!\")\n",
    "    #else:\n",
    "        #print(\"You love movies but you're still a creeper!\")\n",
    "        \n",
    "#if love_age > (your_age - 7) * 2:\n",
    "    #print(\"You are good to go!\")\n",
    "    #if movie == \"yes\":\n",
    "        #print(\"We both love movies!\")\n",
    "    #else:\n",
    "       # print(\"I'm sorry. Not intersted. You dont like movies\")"
   ]
  },
  {
   "cell_type": "code",
   "execution_count": 64,
   "id": "61875872",
   "metadata": {},
   "outputs": [
    {
     "name": "stdout",
     "output_type": "stream",
     "text": [
      "Enter your age: 40\n",
      "Enter the age of the person you want to date: 66\n",
      "You are good to go\n",
      "You're not a creeper\n"
     ]
    }
   ],
   "source": [
    "your_age = int(input(\"Enter your age: \"))\n",
    "love_age = int(input(\"Enter the age of the person you want to date: \"))\n",
    "\n",
    "\n",
    "if love_age < your_age / 2 + 7:\n",
    "    print(\"You are a creeper\")\n",
    "else:\n",
    "    print(\"You are good to go\")\n",
    "if love_age > (your_age - 7) * 2:\n",
    "    print(\"He's too old\")\n",
    "else: \n",
    "    print(\"You're not a creeper\")"
   ]
  },
  {
   "cell_type": "code",
   "execution_count": null,
   "id": "5536e007",
   "metadata": {},
   "outputs": [],
   "source": []
  }
 ],
 "metadata": {
  "kernelspec": {
   "display_name": "Python 3 (ipykernel)",
   "language": "python",
   "name": "python3"
  },
  "language_info": {
   "codemirror_mode": {
    "name": "ipython",
    "version": 3
   },
   "file_extension": ".py",
   "mimetype": "text/x-python",
   "name": "python",
   "nbconvert_exporter": "python",
   "pygments_lexer": "ipython3",
   "version": "3.9.13"
  }
 },
 "nbformat": 4,
 "nbformat_minor": 5
}

{
 "cells": [
  {
   "cell_type": "code",
   "execution_count": null,
   "id": "cd4e6848",
   "metadata": {},
   "outputs": [],
   "source": [
    "#Lori-Ann Nembhard\n",
    "#This program will show how to convert a series of values into different unit of time as well as\n",
    "#different unit of temperature"
   ]
  },
  {
   "cell_type": "markdown",
   "id": "920d87e7",
   "metadata": {},
   "source": [
    "### Homework 2, problem 1"
   ]
  },
  {
   "cell_type": "code",
   "execution_count": null,
   "id": "6d390543",
   "metadata": {},
   "outputs": [],
   "source": [
    "# This code will take a value entered by user and convert it to time in hours, minutes and seconds"
   ]
  },
  {
   "cell_type": "code",
   "execution_count": 24,
   "id": "c00347dc",
   "metadata": {},
   "outputs": [
    {
     "name": "stdout",
     "output_type": "stream",
     "text": [
      "Enter the number of seconds: 11730\n",
      "The time in hours, minutes, and seconds is\n",
      "\n",
      "Hours: 3.0 \n",
      "\n",
      "Minutes: 15.0 \n",
      "\n",
      "Seconds: 30.0\n"
     ]
    }
   ],
   "source": [
    "userInput = float(input(\"Enter the number of seconds: \"))\n",
    "hoursConversion = 3600\n",
    "minutesConversion = 60\n",
    "secondsConversion = 60\n",
    "timeInHours = (userInput // hoursConversion )\n",
    "timeInHours = round(timeInHours,1)\n",
    "timeInMinutes = (userInput // minutesConversion) % 60\n",
    "timeInSeconds = userInput % secondsConversion\n",
    "\n",
    "print(\"The time in hours, minutes, and seconds is\\n\" \n",
    "    \"\\nHours:\" ,timeInHours ,\"\\n\\nMinutes:\",timeInMinutes, \"\\n\\nSeconds:\",timeInSeconds)"
   ]
  },
  {
   "cell_type": "markdown",
   "id": "7b3519d9",
   "metadata": {},
   "source": [
    "### Homework 2, problem 2"
   ]
  },
  {
   "cell_type": "code",
   "execution_count": null,
   "id": "02500ea3",
   "metadata": {},
   "outputs": [],
   "source": [
    "#This code will take the value entered by the user and convert it to temperature in degrees celcius"
   ]
  },
  {
   "cell_type": "code",
   "execution_count": 26,
   "id": "6ad9286e",
   "metadata": {},
   "outputs": [
    {
     "name": "stdout",
     "output_type": "stream",
     "text": [
      "Enter the temperature (in Farenheit): 55.5\n",
      "The temperture in degrees celcius is\n",
      "\n",
      "Celcius:  13.1\n"
     ]
    }
   ],
   "source": [
    "userInput = float(input(\"Enter the temperature (in Farenheit): \"))\n",
    "farenheitToCelcius = (userInput - 32) / 1.8\n",
    "farenheitToCelcius = round(farenheitToCelcius, 1)\n",
    "\n",
    "print(\"The temperture in degrees celcius is\\n\\n\"\n",
    "+ \"Celcius: \", farenheitToCelcius)"
   ]
  },
  {
   "cell_type": "code",
   "execution_count": null,
   "id": "3605726e",
   "metadata": {},
   "outputs": [],
   "source": []
  }
 ],
 "metadata": {
  "kernelspec": {
   "display_name": "Python 3 (ipykernel)",
   "language": "python",
   "name": "python3"
  },
  "language_info": {
   "codemirror_mode": {
    "name": "ipython",
    "version": 3
   },
   "file_extension": ".py",
   "mimetype": "text/x-python",
   "name": "python",
   "nbconvert_exporter": "python",
   "pygments_lexer": "ipython3",
   "version": "3.9.13"
  }
 },
 "nbformat": 4,
 "nbformat_minor": 5
}

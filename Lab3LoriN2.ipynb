{
 "cells": [
  {
   "cell_type": "markdown",
   "id": "294b03fa",
   "metadata": {},
   "source": [
    "### Lab 3, problem 1\n",
    "###  In this game, if rock goes against bakugo or scissors, player wins. If scissors goes against paper, player wins. If "
   ]
  },
  {
   "cell_type": "code",
   "execution_count": 75,
   "id": "0c19168a",
   "metadata": {},
   "outputs": [
    {
     "name": "stdout",
     "output_type": "stream",
     "text": [
      "Welcome to my game. Enjoy !\n",
      "Do you want to be 'rock', 'paper', 'scissors', 'bakugo', 'midoriya'? bakugo\n",
      "You are bakugo\n",
      "The computer has rock\n",
      "You lose :(\n"
     ]
    }
   ],
   "source": [
    "import random\n",
    "\n",
    "print(\"Welcome to my game. Enjoy !\")\n",
    "\n",
    "player = input(\"Do you want to be 'rock', 'paper', 'scissors', 'bakugo', 'midoriya'? \")\n",
    "print(\"You are\", player)\n",
    "\n",
    "computer =  random.choice(['rock', 'paper', 'scissors', 'bakugo', 'midoriya'])\n",
    "print(\"The computer has\", computer)\n",
    "\n",
    "if computer == player:\n",
    "    print(\"It's a tie!\")\n",
    "elif player == 'rock':\n",
    "    if computer == 'bakugo'or computer == 'scissors':\n",
    "        print(\"You win :)\")\n",
    "    else:\n",
    "        print(\"You lose :(\")\n",
    "elif player == 'scissors':\n",
    "    if computer == 'paper':\n",
    "        print(\"You win :)\")\n",
    "    else:\n",
    "        print(\"You lose :(\")\n",
    "elif player == 'paper':\n",
    "    if computer == 'rock' or computer == 'bakugo':\n",
    "        print(\"You win :)\")\n",
    "    else:\n",
    "        print(\"You lose\")\n",
    "elif player == 'midoriya':\n",
    "    if computer == 'bakugo'or computer == 'rock':\n",
    "        print(\"You win :)\")\n",
    "    else:\n",
    "        print(\"You lose\")\n",
    "elif player == 'bakugo':\n",
    "    if computer == 'paper'or computer == 'scissors':\n",
    "        print(\"You win :)\")\n",
    "    else:\n",
    "        print(\"You lose :(\")\n"
   ]
  },
  {
   "cell_type": "code",
   "execution_count": 43,
   "id": "9916d18a",
   "metadata": {},
   "outputs": [
    {
     "name": "stdout",
     "output_type": "stream",
     "text": [
      "Welcome to my game. Enjoy !\n",
      "Do you want to be 'rock', 'paper', 'scissors'? rock\n",
      "You are rock\n",
      "The computer has paper\n",
      "You win!!!\n"
     ]
    }
   ],
   "source": [
    "import random\n",
    "\n",
    "print(\"Welcome to my game. Enjoy !\")\n",
    "\n",
    "player = input(\"Do you want to be 'rock', 'paper', 'scissors'? \")\n",
    "print(\"You are\", player)\n",
    "\n",
    "computer =  random.choice(['rock', 'paper', 'scissors'])\n",
    "print(\"The computer has\", computer)\n",
    "\n",
    "\n",
    "if computer == player:\n",
    "    print(\"It's a tie\")\n",
    "elif player == 'rock':\n",
    "    if computer == 'scissors':\n",
    "        print(\"You lose!!!\")\n",
    "    else:\n",
    "        print(\"You win!!!\")\n",
    "elif player == 'paper':\n",
    "    if computer == 'scissors':\n",
    "        print(\"You lose !!\")\n",
    "    else:\n",
    "        print(\"You win!!!\")\n",
    "elif player == 'scissors':\n",
    "    if computer == 'paper':\n",
    "        print(\"You win\")\n",
    "    else:\n",
    "        print(\"You lose\")\n",
    "elif player == 'scissors':\n",
    "    if computer == 'rock':\n",
    "        print(\"You win\")\n",
    "    else:\n",
    "        print(\"You lose\")\n"
   ]
  },
  {
   "cell_type": "markdown",
   "id": "ca372513",
   "metadata": {},
   "source": []
  },
  {
   "cell_type": "code",
   "execution_count": 68,
   "id": "8499795d",
   "metadata": {},
   "outputs": [
    {
     "name": "stdout",
     "output_type": "stream",
     "text": [
      "Welcome to my game. Enjoy !\n",
      "Do you want to be 'rock', 'paper', 'scissors', 'bakugo', 'midoriya'? bakugo\n",
      "You are bakugo\n",
      "The computer has midoriya\n",
      "You lose\n"
     ]
    }
   ],
   "source": [
    "import random\n",
    "\n",
    "print(\"Welcome to my game. Enjoy !\")\n",
    "\n",
    "player = input(\"Do you want to be 'rock', 'paper', 'scissors', 'bakugo', 'midoriya'? \")\n",
    "print(\"You are\", player)\n",
    "\n",
    "computer =  random.choice(['rock', 'paper', 'scissors', 'bakugo', 'midoriya'])\n",
    "print(\"The computer has\", computer)\n",
    "\n",
    "if computer == player:\n",
    "    print(\"It's a tie!\")\n",
    "elif player == 'rock':\n",
    "    if computer == 'scissors':\n",
    "        print(\"You lose !!\")\n",
    "    else:\n",
    "        print(\"You win!!!\")\n",
    "elif player == 'paper':\n",
    "    if computer == 'rock':\n",
    "        print(\"You win!!\")\n",
    "    else:\n",
    "        print(\"You lose\")\n",
    "elif player == 'midoriya':\n",
    "    if computer == 'bakugo':\n",
    "        print(\"You win\")\n",
    "    else:\n",
    "        print(\"You lose\")\n",
    "elif player == 'bakugo':\n",
    "    if computer == 'midoriya':\n",
    "        print(\"You lose\")\n",
    "    else:\n",
    "        print(\"You win\")"
   ]
  },
  {
   "cell_type": "code",
   "execution_count": null,
   "id": "96e1bcce",
   "metadata": {},
   "outputs": [],
   "source": [
    "print(\"Welcome to Jamaica! Where would you like to visit first? \")\n",
    "choice1 = input(\"Type 'a' for Kingston or 'b' for Ocho Rios\")\n",
    "\n",
    "if choice1 = 'a':\n",
    "    print(\"Great! You're on your way to Kingston\")\n",
    "    print(\"But once you arrived, you lost your bus ticket to the museum!\")\n",
    "    print(\"What do you want to do?)\n",
    "    choice2 = input(\"Type 'a' if you want to give up or 'b' if you want to ask strangers for help\")"
   ]
  }
 ],
 "metadata": {
  "kernelspec": {
   "display_name": "Python 3 (ipykernel)",
   "language": "python",
   "name": "python3"
  },
  "language_info": {
   "codemirror_mode": {
    "name": "ipython",
    "version": 3
   },
   "file_extension": ".py",
   "mimetype": "text/x-python",
   "name": "python",
   "nbconvert_exporter": "python",
   "pygments_lexer": "ipython3",
   "version": "3.9.13"
  }
 },
 "nbformat": 4,
 "nbformat_minor": 5
}
